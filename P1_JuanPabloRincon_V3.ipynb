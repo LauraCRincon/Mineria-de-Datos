{
  "cells": [
    {
      "cell_type": "code",
      "execution_count": 119,
      "metadata": {
        "colab": {
          "base_uri": "https://localhost:8080/"
        },
        "id": "Tt7M7Fcy7HnS",
        "outputId": "c248803c-d35a-4692-afed-3f17dcb6d832"
      },
      "outputs": [
        {
          "output_type": "stream",
          "name": "stdout",
          "text": [
            "[[0.78864864 1.46529921]\n",
            " [0.72368723 1.34480199]]\n"
          ]
        }
      ],
      "source": [
        "#Punto 1: Literal A\n",
        "import numpy as np\n",
        "def funcion1(A,B,C,D): #Se definen las entradas de la funcion\n",
        "  valor = np.linalg.matrix_power(A,C)@np.linalg.matrix_power(B,D) #Se calcula el producto punto y las potencias\n",
        "  return valor\n",
        "np.random.seed(0) #Se define una semilla para los valores aleatorios\n",
        "A = np.random.rand(2,2) #Se genera la matriz A\n",
        "B = np.random.rand(2,2) #Se genera la matriz B\n",
        "C = 2 #Se define el exponente que eleva a A\n",
        "D = 2 #Se define el exponente que eleva a B\n",
        "resultado = funcion1(A,B,C,D) #Se obtiene el resultado a traves de la funcion\n",
        "print(resultado) #Se imprime el resultado final"
      ]
    },
    {
      "cell_type": "code",
      "execution_count": 120,
      "metadata": {
        "colab": {
          "base_uri": "https://localhost:8080/"
        },
        "id": "Bihv2mzC-Arz",
        "outputId": "02cc35c1-78c1-4ae8-be6c-bf59e8dcd9d4"
      },
      "outputs": [
        {
          "output_type": "stream",
          "name": "stdout",
          "text": [
            "Las matrices no se pueden multiplicar\n"
          ]
        }
      ],
      "source": [
        "#Punto 1: Literal B\n",
        "def funcion2(A,B,C,D): #Se definen las entradas de la funcion\n",
        "  dim1 = np.shape(A) #Se obtienen las dimensiones de A\n",
        "  dim2 = np.shape(B) #Se obtienen las dimensiones de B\n",
        "  if (dim1[1] == dim2[0] and dim1[0]==dim1[1] and dim2[0]==dim2[1]): #Si se cumple que el numero de columnas de A es igual al numero de filas de B y ambas matrices son cuadradas se realiza la multiplicacion\n",
        "    valor = np.linalg.matrix_power(A,C)@np.linalg.matrix_power(B,D)\n",
        "  elif (dim1[1] == dim2[0] and C==1 and D==1): #Si se cumple que el numero de columnas de A es igual al numero de filas de B y la matriz A y B no son cuadradas pero tienen exponente 1 se realiza la multiplicacion\n",
        "    valor = A@B\n",
        "  elif (dim1[1] == dim2[0] and C==1 and D!=1): #Si se cumple que el numero de columnas de A es igual al numero de filas de B y la matriz A no es cuadrada pero tiene exponente 1 se realiza la multiplicacion\n",
        "    valor = A@np.linalg.matrix_power(B,D)\n",
        "  elif (dim1[1] == dim2[0] and D==1 and C!=1): #Si se cumple que el numero de columnas de A es igual al numero de filas de B y la matriz B no es cuadrada pero tiene exponente 1 se realiza la multiplicacion\n",
        "    valor = np.linalg.matrix_power(A,C)@B\n",
        "  else: #Si no se cumple, se retorna un str\n",
        "    valor = 'Las matrices no se pueden multiplicar'\n",
        "  return valor \n",
        "np.random.seed(0) #Se define una semilla para los valores aleatorios\n",
        "A = np.random.rand(2,3) #Se genera la matriz A\n",
        "B = np.random.rand(1,2) #Se genera la matriz B\n",
        "C = 1 #Se define el exponente que eleva a A\n",
        "D = 1 #Se define el exponente que eleva a B\n",
        "resultado = funcion2(A,B,C,D) #Se obtiene el resultado a traves de la funcion\n",
        "print(resultado) #Se imprime el resultado final"
      ]
    },
    {
      "cell_type": "code",
      "execution_count": 121,
      "metadata": {
        "colab": {
          "base_uri": "https://localhost:8080/"
        },
        "id": "RYPEYeYyAgET",
        "outputId": "c26055b4-f8c7-4d95-b5fe-a74aa983b3ee"
      },
      "outputs": [
        {
          "output_type": "stream",
          "name": "stdout",
          "text": [
            "Resultado literal 1:\n",
            "Las matrices no se pueden multiplicar\n",
            "Resultado literal 2:\n",
            "[[ 5.61 10.02 14.43]\n",
            " [16.44 20.85 25.26]]\n",
            "Resultado literal 3:\n",
            "Las matrices no se pueden multiplicar\n",
            "Resultado literal 4:\n",
            "[[105.86419753  42.34567901]\n",
            " [148.20987654  59.28395062]\n",
            " [190.55555556  76.22222222]]\n"
          ]
        }
      ],
      "source": [
        "#Punto 2: Literal A\n",
        "A = np.array([[0.1, 2],[2,0.1]]) #Se genera la matriz A\n",
        "B = np.array([[1, 2, 3],[4, 5, 6]]) #Se genera la matriz B\n",
        "C = np.array([[5/3, 2/3],[5/3, 2/3]]) #Se genera la matriz C\n",
        "\n",
        "valor1 = funcion2(A,B.T,1,1) #Literal 1\n",
        "valor2 = funcion2(A,B,2,1)  #Literal 2\n",
        "valor3 = funcion2(B,C,1,3) #Literal 3\n",
        "valor4 = funcion2(B.T,C,1,4) #Literal 4\n",
        "print('Resultado literal 1:')\n",
        "print(valor1) #Se imprime el resultado final\n",
        "print('Resultado literal 2:')\n",
        "print(valor2) #Se imprime el resultado final\n",
        "print('Resultado literal 3:')\n",
        "print(valor3) #Se imprime el resultado final\n",
        "print('Resultado literal 4:')\n",
        "print(valor4) #Se imprime el resultado final"
      ]
    },
    {
      "cell_type": "code",
      "execution_count": 122,
      "metadata": {
        "colab": {
          "base_uri": "https://localhost:8080/"
        },
        "id": "TPLSdjJ-DLGb",
        "outputId": "0ae1f565-b3e0-45d5-f7e5-f0744fb66530"
      },
      "outputs": [
        {
          "output_type": "stream",
          "name": "stdout",
          "text": [
            "Ingrese la primera potencia (C): 2\n",
            "Ingrese la segunda potencia (D): 1\n",
            "[[ 5.61 10.02 14.43]\n",
            " [16.44 20.85 25.26]]\n"
          ]
        }
      ],
      "source": [
        "#Punto 2: Literal B\n",
        "A = np.array([[0.1, 2],[2,0.1]]) #Se genera la matriz A\n",
        "B = np.array([[1, 2, 3],[4, 5, 6]]) #Se genera la matriz B\n",
        "inC = int(input('Ingrese la primera potencia (C): ')) #Se solicita al usuario el valor de C\n",
        "inD = int(input('Ingrese la segunda potencia (D): ')) #Se solicita al usuario el valor de D\n",
        "valor1 = funcion2(A,B,inC,inD) #Se obtiene el resultado a traves de la funcion\n",
        "print(valor1) #Se imprime el resultado final"
      ]
    },
    {
      "cell_type": "code",
      "execution_count": 123,
      "metadata": {
        "colab": {
          "base_uri": "https://localhost:8080/"
        },
        "id": "HFmj9ycuHbY-",
        "outputId": "ae77b46d-5a7d-49ac-b9ac-ba13737c2ab3"
      },
      "outputs": [
        {
          "output_type": "stream",
          "name": "stdout",
          "text": [
            "Matriz en estado inicial:\n",
            "[[ 3.  2.  2.]\n",
            " [-2.  1.  4.]\n",
            " [ 1.  0.  3.]\n",
            " [ 5. -2.  1.]]\n",
            "Literal a:\n",
            "[[ 0.75  0.5   0.5 ]\n",
            " [-2.    1.    4.  ]\n",
            " [ 1.    0.    3.  ]\n",
            " [ 5.   -2.    1.  ]]\n",
            "Literal b:\n",
            "[[ 0.75  0.5   0.5 ]\n",
            " [ 0.25  2.5   5.5 ]\n",
            " [ 1.    0.    3.  ]\n",
            " [ 5.   -2.    1.  ]]\n",
            "Literal c:\n",
            "[[ 0.75  0.5   0.5 ]\n",
            " [ 0.25  2.5   5.5 ]\n",
            " [ 0.25 -0.5   2.5 ]\n",
            " [ 5.   -2.    1.  ]]\n",
            "Literal d:\n",
            "[[ 0.75  0.5   0.5 ]\n",
            " [ 0.25  2.5   5.5 ]\n",
            " [ 0.25 -0.5   2.5 ]\n",
            " [ 1.25 -4.5  -1.5 ]]\n",
            "Literal e:\n",
            "[[ 0.75  0.5   0.5 ]\n",
            " [ 1.25 -4.5  -1.5 ]\n",
            " [ 0.25 -0.5   2.5 ]\n",
            " [ 0.25  2.5   5.5 ]]\n"
          ]
        }
      ],
      "source": [
        "#Punto 3\n",
        "A = np.array([[3.0, 2.0, 2.0],[-2.0, 1.0, 4.0],[1.0, 0.0, 3.0],[5.0, -2.0, 1.0]]) #Se genera la matriz A\n",
        "print('Matriz en estado inicial:')\n",
        "print(A) #Se imprime el resultado final\n",
        "A[0] = A[0]*(1/4) #Literal a\n",
        "print('Literal a:')\n",
        "print(A)\n",
        "A[1] = A[1] + 3*A[0] #Literal b\n",
        "print('Literal b:')\n",
        "print(A)\n",
        "A[2] = A[2] - 1*A[0] #Literal c\n",
        "print('Literal c:')\n",
        "print(A)\n",
        "A[3] = A[3] - 5*A[0] #Literal d\n",
        "print('Literal d:')\n",
        "print(A)\n",
        "A = A[[0,3,2,1],:] #Literal d\n",
        "print('Literal e:')\n",
        "print(A)\n"
      ]
    }
  ],
  "metadata": {
    "colab": {
      "provenance": []
    },
    "kernelspec": {
      "display_name": "Python 3.10.6 64-bit (windows store)",
      "language": "python",
      "name": "python3"
    },
    "language_info": {
      "name": "python",
      "version": "3.10.6"
    },
    "vscode": {
      "interpreter": {
        "hash": "2d9d9cd3fe739fbba9eee7381a7a87044fffd0b0fcc3a64dd841edef4f0f1aa4"
      }
    }
  },
  "nbformat": 4,
  "nbformat_minor": 0
}