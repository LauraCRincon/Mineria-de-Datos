{
 "cells": [
  {
   "cell_type": "markdown",
   "id": "04701b5b-6877-4bde-9e79-6a573f0ad79d",
   "metadata": {
    "tags": []
   },
   "source": [
    "<h3> <center> <font color=\"blue\">  Minería de Datos </font> </center> </h3>\n",
    "<h4> <b><i> Laura Carolina Rincón Ochoa </i></b> </h4>  "
   ]
  },
  {
   "cell_type": "markdown",
   "id": "e2d18262-8058-4684-9cc3-42568ef0aabb",
   "metadata": {},
   "source": [
    "<center> <h3><font color=\"red\">  Instalación </font>  </h3> </center>\n",
    "<img src=\"https://raw.githubusercontent.com/LauraCRincon/Mineria-de-Datos/main/Tarea1/Imagenes/1.png?raw=true\"      width=\"400\" height=\"341\"> <br>\n",
    "<img src=\"https://raw.githubusercontent.com/LauraCRincon/Mineria-de-Datos/main/Tarea1/Imagenes/2.png?raw=true\"      width=\"400\" height=\"341\"> <br>\n",
    "<img src=\"https://raw.githubusercontent.com/LauraCRincon/Mineria-de-Datos/main/Tarea1/Imagenes/3.png?raw=true\"      width=\"400\" height=\"341\"> <br>\n",
    "<img src=\"https://raw.githubusercontent.com/LauraCRincon/Mineria-de-Datos/main/Tarea1/Imagenes/4.png?raw=true\"      width=\"400\" height=\"341\"> <br>\n",
    "<img src=\"https://raw.githubusercontent.com/LauraCRincon/Mineria-de-Datos/main/Tarea1/Imagenes/5.png?raw=true\"      width=\"400\" height=\"341\"> <br>\n",
    "<img src=\"https://raw.githubusercontent.com/LauraCRincon/Mineria-de-Datos/main/Tarea1/Imagenes/6.png?raw=true\"      width=\"400\" height=\"341\"> <br>\n",
    "<img src=\"https://raw.githubusercontent.com/LauraCRincon/Mineria-de-Datos/main/Tarea1/Imagenes/7.png?raw=true\"      width=\"400\" height=\"341\"> <br>\n",
    "<img src=\"https://raw.githubusercontent.com/LauraCRincon/Mineria-de-Datos/main/Tarea1/Imagenes/8.png?raw=true\"      width=\"400\" height=\"341\"> <br>\n",
    "<img src=\"https://raw.githubusercontent.com/LauraCRincon/Mineria-de-Datos/main/Tarea1/Imagenes/9.png?raw=true\"      width=\"400\" height=\"341\"> <br>"
   ]
  },
  {
   "cell_type": "markdown",
   "id": "d1b1ac32-253d-438e-a557-90ddd8054b25",
   "metadata": {},
   "source": [
    "<a href=\"https://economipedia.com/definiciones/distribucion-normal.html\">   \n",
    "    <center> <h3><font color=\"red\">  Distribución Normal </font>  </h3> </center>\n",
    "</a>\n",
    "$\n",
    "f(x)=\\frac{1}{\\sigma \\sqrt{2 \\pi}} e^{-\\frac{(x-\\mu)^2}{2 \\sigma^2}}\n",
    "$"
   ]
  },
  {
   "cell_type": "markdown",
   "id": "1998ef51-475f-436c-875f-d6a55a91acab",
   "metadata": {},
   "source": [
    "<center> <img src=\"https://raw.githubusercontent.com/LauraCRincon/Mineria-de-Datos/main/Tarea1/Imagenes/DN.jpg?raw=true\"> </center>"
   ]
  },
  {
   "cell_type": "markdown",
   "id": "22aacb8f-e5dc-441b-a0c6-58dcf7234a9c",
   "metadata": {},
   "source": [
    "<a href=\"https://www.youtube.com/watch?v=K6arYpJP_k4\">   \n",
    "    <center><h3><font color=\"red\">  Distribución normal ejemplo</font>  </h3></center>\n",
    "</a>"
   ]
  },
  {
   "cell_type": "code",
   "execution_count": 1,
   "id": "7911fcf0-293c-4b0a-bc7b-c4b506afc2cd",
   "metadata": {},
   "outputs": [
    {
     "data": {
      "text/html": [
       "<video src=\"https://raw.githubusercontent.com/LauraCRincon/Mineria-de-Datos/main/Tarea1/Imagenes/VDN.mp4?raw=true\" controls  width=\"560\"  height=\"315\">\n",
       "      Your browser does not support the <code>video</code> element.\n",
       "    </video>"
      ],
      "text/plain": [
       "<IPython.core.display.Video object>"
      ]
     },
     "execution_count": 1,
     "metadata": {},
     "output_type": "execute_result"
    }
   ],
   "source": [
    "from IPython.display import Video \n",
    "Video('https://raw.githubusercontent.com/LauraCRincon/Mineria-de-Datos/main/Tarea1/Imagenes/VDN.mp4?raw=true', \n",
    "      width=560, height=315)"
   ]
  },
  {
   "cell_type": "code",
   "execution_count": null,
   "id": "666645cb-d4ec-4b15-82fb-cf25adbead4b",
   "metadata": {},
   "outputs": [],
   "source": []
  }
 ],
 "metadata": {
  "kernelspec": {
   "display_name": "Python 3 (ipykernel)",
   "language": "python",
   "name": "python3"
  },
  "language_info": {
   "codemirror_mode": {
    "name": "ipython",
    "version": 3
   },
   "file_extension": ".py",
   "mimetype": "text/x-python",
   "name": "python",
   "nbconvert_exporter": "python",
   "pygments_lexer": "ipython3",
   "version": "3.10.4"
  }
 },
 "nbformat": 4,
 "nbformat_minor": 5
}
